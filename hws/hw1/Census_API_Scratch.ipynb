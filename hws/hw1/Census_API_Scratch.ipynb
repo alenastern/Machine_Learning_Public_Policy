{
 "cells": [
  {
   "cell_type": "markdown",
   "metadata": {},
   "source": [
    "# Census API Scratch"
   ]
  },
  {
   "cell_type": "code",
   "execution_count": null,
   "metadata": {
    "collapsed": true
   },
   "outputs": [],
   "source": [
    "state_list = ['18', '17', '26', '39', '55', '10', '11', '12', '13', '24', '37', '45', '51', '54']\n",
    "df = pd.read_table('national_county.txt', sep = ',', converters={'01': lambda x: str(x), '001': lambda x: str(x)})\n",
    "df = df[df['01'].isin(state_list)]"
   ]
  },
  {
   "cell_type": "code",
   "execution_count": null,
   "metadata": {
    "collapsed": true
   },
   "outputs": [],
   "source": [
    "df['county'] = df['01'] + df['001']"
   ]
  },
  {
   "cell_type": "code",
   "execution_count": null,
   "metadata": {
    "collapsed": true
   },
   "outputs": [],
   "source": [
    "acs_results_2016 = requests.get('https://api.census.gov/data/2016/acs/acs5?get=NAME,B15002_001E,B15003_022E,B15003_023E,B15003_024E,B15003_025E,B25010_001E&for=block%20group:*&in=state:10%20county:001&key=91aa6a44edb890abeea862f2d9befb5d520a5cc4')\n",
    "data = acs_results_2016.text\n",
    "total_df = pd.read_json(data)\n",
    "errors = []\n",
    "\n",
    "\n",
    "# Query ACS Data from Census API\n",
    "for i in range(1, len(df)):\n",
    "    acs_results_2016 = requests.get('https://api.census.gov/data/2016/acs/acs5?get=NAME,B15002_001E,B15003_022E,B15003_023E,B15003_024E,B15003_025E,B25010_001E&for=block%20group:*&in=state:{}%20county:{}&key=91aa6a44edb890abeea862f2d9befb5d520a5cc4'.format(df.iloc[i,1], df.iloc[i,2]))\n",
    "    print(df.iloc[i,1], df.iloc[i,2])\n",
    "    if acs_results_2016.status_code != 204:\n",
    "        data = acs_results_2016.text\n",
    "        acs_df = pd.read_json(data)\n",
    "        total_df = pd.concat([total_df, acs_df])\n",
    "    else:\n",
    "        errors.append([df.iloc[i,1], df.iloc[i,2]])\n"
   ]
  },
  {
   "cell_type": "code",
   "execution_count": null,
   "metadata": {
    "collapsed": true
   },
   "outputs": [],
   "source": [
    "# Clean ACS data frame and rename columns# Clean  \n",
    "variables = {'B15002_001E': \"total_pop_over25\", 'B15003_022E': \"bachelors\", 'B15003_023E': \"masters\", 'B15003_024E': \"professional\", 'B15003_024E': \"doctorate\"\n",
    "            'B25010_001E': \"avg_hh_size\"}\n",
    "acs_df.columns = acs_df.iloc[0]\n",
    "acs_df.drop([0], inplace = True)\n",
    "acs_df.rename(columns = variables, inplace=True)"
   ]
  }
 ],
 "metadata": {
  "kernelspec": {
   "display_name": "Python 3",
   "language": "python",
   "name": "python3"
  },
  "language_info": {
   "codemirror_mode": {
    "name": "ipython",
    "version": 3
   },
   "file_extension": ".py",
   "mimetype": "text/x-python",
   "name": "python",
   "nbconvert_exporter": "python",
   "pygments_lexer": "ipython3",
   "version": "3.6.3"
  }
 },
 "nbformat": 4,
 "nbformat_minor": 2
}
