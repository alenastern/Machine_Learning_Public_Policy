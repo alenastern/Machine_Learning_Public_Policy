{
 "cells": [
  {
   "cell_type": "code",
   "execution_count": 59,
   "metadata": {
    "collapsed": true
   },
   "outputs": [],
   "source": [
    "import pandas as pd\n",
    "from sodapy import Socrata\n",
    "import os\n",
    "import requests\n",
    "import matplotlib.pyplot as plt\n",
    "import geopandas as gpd\n",
    "import pyproj\n",
    "import datetime\n",
    "from geopandas import GeoDataFrame as gdf\n",
    "from shapely.geometry import Point\n",
    "from shapely.geometry import Polygon\n",
    "import json\n",
    "%matplotlib inline"
   ]
  },
  {
   "cell_type": "code",
   "execution_count": 60,
   "metadata": {
    "collapsed": true
   },
   "outputs": [],
   "source": [
    "# Get Graffiti 311 Data from Chicago Data Portal API\n",
    "graffiti_id = \"cdmx-wzbz\"\n",
    "client = Socrata(\"data.cityofchicago.org\", 'BOetEt3G4uynCIa1XQuFyRS8X')\n",
    "\n",
    "g_results = client.get(graffiti_id, where=\"creation_date between '2017-01-01T00:00:00' and '2017-12-31T00:00:00'\", limit = 2000000)\n",
    "g_df = pd.DataFrame.from_records(g_results)"
   ]
  },
  {
   "cell_type": "code",
   "execution_count": 61,
   "metadata": {
    "collapsed": true
   },
   "outputs": [],
   "source": [
    "# Get Vacant and Abandoned Buildings 311 Data from Chicago Data Portal API\n",
    "buildings_id = \"yama-9had\"\n",
    "b_results = client.get(buildings_id, where=\"date_service_request_was_received between '2017-01-01T00:00:00' and '2017-12-31T00:00:00'\", limit = 2000000)\n",
    "b_df = pd.DataFrame.from_records(b_results)\n",
    "b_df[\"street_address\"] = b_df.address_street_number+\" \"+b_df.address_street_direction+\" \"+b_df.address_street_name+\" \"+b_df.address_street_suffix\n",
    "b_df.rename(index=str, columns={\"date_service_request_was_received\": \"creation_date\", \"service_request_type\": \"type_of_service_request\"}, inplace = True)"
   ]
  },
  {
   "cell_type": "code",
   "execution_count": 62,
   "metadata": {
    "collapsed": true
   },
   "outputs": [],
   "source": [
    "# Get Alley Lights Out 311 Data from Chicago Data Portal API\n",
    "alleys_id = \"j9pw-ad5p\"\n",
    "a_results = client.get(alleys_id, where=\"creation_date between '2017-01-01T00:00:00' and '2017-12-31T00:00:00'\", limit = 2000000)\n",
    "a_df = pd.DataFrame.from_records(a_results)"
   ]
  },
  {
   "cell_type": "code",
   "execution_count": 63,
   "metadata": {
    "collapsed": true
   },
   "outputs": [],
   "source": [
    "# Get community areas data from Chicago Data Portal API\n",
    "com_area_id = \"igwz-8jzy\"\n",
    "ca_results = client.get(com_area_id)\n",
    "ca_df = pd.DataFrame.from_records(ca_results)\n",
    "ca_names = ca_df[[\"area_num_1\", \"community\"]].copy()\n",
    "ca_names.rename(index = str, columns = {\"area_num_1\": \"community_area\"}, inplace = True)"
   ]
  },
  {
   "cell_type": "code",
   "execution_count": 64,
   "metadata": {
    "collapsed": true
   },
   "outputs": [],
   "source": [
    "# Concatenate the 311 calls dataframes into one, merge in community area name, calculate response time variable\n",
    "all_call = pd.concat([g_df, b_df, a_df], axis = 0, ignore_index = True)\n",
    "all_call = pd.merge(all_call, ca_names, on = 'community_area', how = 'left')\n",
    "all_call['response_time'] = (pd.to_datetime(all_call['completion_date']) - pd.to_datetime(all_call['creation_date'])).dt.days"
   ]
  },
  {
   "cell_type": "code",
   "execution_count": 65,
   "metadata": {
    "collapsed": true
   },
   "outputs": [],
   "source": [
    "# Clean where_is_the_graffiti_located_ column\n",
    "mask = all_call.where_is_the_graffiti_located_ == \"Express Way Job - DSS will NOT remove\"\n",
    "column_name = 'where_is_the_graffiti_located_'\n",
    "all_call.loc[mask, column_name] = \"Express Way Job\""
   ]
  },
  {
   "cell_type": "code",
   "execution_count": 66,
   "metadata": {
    "scrolled": true
   },
   "outputs": [
    {
     "data": {
      "text/html": [
       "<div>\n",
       "<style>\n",
       "    .dataframe thead tr:only-child th {\n",
       "        text-align: right;\n",
       "    }\n",
       "\n",
       "    .dataframe thead th {\n",
       "        text-align: left;\n",
       "    }\n",
       "\n",
       "    .dataframe tbody tr th {\n",
       "        vertical-align: top;\n",
       "    }\n",
       "</style>\n",
       "<table border=\"1\" class=\"dataframe\">\n",
       "  <thead>\n",
       "    <tr style=\"text-align: right;\">\n",
       "      <th></th>\n",
       "      <th>type_of_service_request</th>\n",
       "      <th>count</th>\n",
       "      <th>percent</th>\n",
       "    </tr>\n",
       "  </thead>\n",
       "  <tbody>\n",
       "    <tr>\n",
       "      <th>0</th>\n",
       "      <td>Alley Light Out</td>\n",
       "      <td>27896</td>\n",
       "      <td>0.193265</td>\n",
       "    </tr>\n",
       "    <tr>\n",
       "      <th>1</th>\n",
       "      <td>Graffiti Removal</td>\n",
       "      <td>112779</td>\n",
       "      <td>0.781337</td>\n",
       "    </tr>\n",
       "    <tr>\n",
       "      <th>2</th>\n",
       "      <td>Vacant/Abandoned Building</td>\n",
       "      <td>3666</td>\n",
       "      <td>0.025398</td>\n",
       "    </tr>\n",
       "  </tbody>\n",
       "</table>\n",
       "</div>"
      ],
      "text/plain": [
       "     type_of_service_request   count   percent\n",
       "0            Alley Light Out   27896  0.193265\n",
       "1           Graffiti Removal  112779  0.781337\n",
       "2  Vacant/Abandoned Building    3666  0.025398"
      ]
     },
     "execution_count": 66,
     "metadata": {},
     "output_type": "execute_result"
    }
   ],
   "source": [
    "# Count number of service requests by type\n",
    "count_type = all_call.groupby(\"type_of_service_request\").size().reset_index(name=\"count\")\n",
    "count_type['percent'] = count_type['count']/len(all_call)\n",
    "count_type"
   ]
  },
  {
   "cell_type": "markdown",
   "metadata": {},
   "source": [
    "We see in the table above that Graffiti Removal represents the largest share of 311 calls with 112,779 calls representing 78.13% of the calls in our sample, followed by Alley Light Out with 27,896 calls representing 19.33% of the calls and finally Vacant/Abandoned Building with just 3666 calls and 2.54% of the total sample."
   ]
  },
  {
   "cell_type": "code",
   "execution_count": 67,
   "metadata": {},
   "outputs": [
    {
     "data": {
      "text/plain": [
       "Text(0.5,0,'Location of Reported Grafitti')"
      ]
     },
     "execution_count": 67,
     "metadata": {},
     "output_type": "execute_result"
    },
    {
     "data": {
      "image/png": "[encoded data removed]",
      "text/plain": [
       "<matplotlib.figure.Figure at 0x12ef666d8>"
      ]
     },
     "metadata": {},
     "output_type": "display_data"
    }
   ],
   "source": [
    "# Count number of Grafitti Removal calls by sub-type \n",
    "p1 = all_call.groupby([\"where_is_the_graffiti_located_\"]).size()\n",
    "p1.plot.bar(title = \"Grafitti Calls by Location\")\n",
    "plt.xlabel(\"Location of Reported Grafitti\")"
   ]
  },
  {
   "cell_type": "code",
   "execution_count": 68,
   "metadata": {},
   "outputs": [
    {
     "data": {
      "text/plain": [
       "Text(0.5,0,'Are any people using vacant property?')"
      ]
     },
     "execution_count": 68,
     "metadata": {},
     "output_type": "execute_result"
    },
    {
     "data": {
      "image/png": "[encoded data removed]",
      "text/plain": [
       "<matplotlib.figure.Figure at 0x13a14e668>"
      ]
     },
     "metadata": {},
     "output_type": "display_data"
    }
   ],
   "source": [
    "# Count number of Vacang/Abandoned Building calls by subtype\n",
    "p1 = all_call.groupby([\"any_people_using_property_homeless_childen_gangs_\"]).size()\n",
    "p1.plot.bar(title = \"People Using Vacant Property\")\n",
    "plt.xlabel(\"Are any people using vacant property?\")"
   ]
  },
  {
   "cell_type": "code",
   "execution_count": 69,
   "metadata": {},
   "outputs": [
    {
     "data": {
      "text/plain": [
       "Text(0.5,0,'Creation Month')"
      ]
     },
     "execution_count": 69,
     "metadata": {},
     "output_type": "execute_result"
    },
    {
     "data": {
      "image/png": "[encoded data removed]",
      "text/plain": [
       "<matplotlib.figure.Figure at 0x13a180518>"
      ]
     },
     "metadata": {},
     "output_type": "display_data"
    }
   ],
   "source": [
    "# Count number of service requests per month\n",
    "pt = all_call.groupby([pd.to_datetime(all_call.creation_date).dt.month, all_call.type_of_service_request]).size().reset_index(name=\"count\")\n",
    "piv = pt.pivot(index='creation_date', columns='type_of_service_request', values='count')\n",
    "piv.plot.bar(stacked= True, title = \"Service Requests per Month by Type\")\n",
    "plt.xlabel(\"Creation Month\")"
   ]
  },
  {
   "cell_type": "code",
   "execution_count": 70,
   "metadata": {},
   "outputs": [
    {
     "data": {
      "text/html": [
       "<div>\n",
       "<style>\n",
       "    .dataframe thead tr:only-child th {\n",
       "        text-align: right;\n",
       "    }\n",
       "\n",
       "    .dataframe thead th {\n",
       "        text-align: left;\n",
       "    }\n",
       "\n",
       "    .dataframe tbody tr th {\n",
       "        vertical-align: top;\n",
       "    }\n",
       "</style>\n",
       "<table border=\"1\" class=\"dataframe\">\n",
       "  <thead>\n",
       "    <tr style=\"text-align: right;\">\n",
       "      <th></th>\n",
       "      <th>community</th>\n",
       "      <th>count</th>\n",
       "    </tr>\n",
       "  </thead>\n",
       "  <tbody>\n",
       "    <tr>\n",
       "      <th>75</th>\n",
       "      <td>WEST TOWN</td>\n",
       "      <td>10272</td>\n",
       "    </tr>\n",
       "    <tr>\n",
       "      <th>40</th>\n",
       "      <td>LOGAN SQUARE</td>\n",
       "      <td>8162</td>\n",
       "    </tr>\n",
       "    <tr>\n",
       "      <th>64</th>\n",
       "      <td>SOUTH LAWNDALE</td>\n",
       "      <td>6675</td>\n",
       "    </tr>\n",
       "    <tr>\n",
       "      <th>42</th>\n",
       "      <td>LOWER WEST SIDE</td>\n",
       "      <td>6216</td>\n",
       "    </tr>\n",
       "    <tr>\n",
       "      <th>11</th>\n",
       "      <td>BRIGHTON PARK</td>\n",
       "      <td>5784</td>\n",
       "    </tr>\n",
       "    <tr>\n",
       "      <th>7</th>\n",
       "      <td>AVONDALE</td>\n",
       "      <td>4751</td>\n",
       "    </tr>\n",
       "    <tr>\n",
       "      <th>37</th>\n",
       "      <td>LAKE VIEW</td>\n",
       "      <td>4730</td>\n",
       "    </tr>\n",
       "    <tr>\n",
       "      <th>43</th>\n",
       "      <td>MCKINLEY PARK</td>\n",
       "      <td>4693</td>\n",
       "    </tr>\n",
       "    <tr>\n",
       "      <th>26</th>\n",
       "      <td>GAGE PARK</td>\n",
       "      <td>3825</td>\n",
       "    </tr>\n",
       "    <tr>\n",
       "      <th>8</th>\n",
       "      <td>BELMONT CRAGIN</td>\n",
       "      <td>3744</td>\n",
       "    </tr>\n",
       "    <tr>\n",
       "      <th>34</th>\n",
       "      <td>IRVING PARK</td>\n",
       "      <td>3706</td>\n",
       "    </tr>\n",
       "    <tr>\n",
       "      <th>51</th>\n",
       "      <td>NORTH CENTER</td>\n",
       "      <td>3638</td>\n",
       "    </tr>\n",
       "    <tr>\n",
       "      <th>39</th>\n",
       "      <td>LINCOLN SQUARE</td>\n",
       "      <td>3582</td>\n",
       "    </tr>\n",
       "    <tr>\n",
       "      <th>49</th>\n",
       "      <td>NEAR WEST SIDE</td>\n",
       "      <td>3373</td>\n",
       "    </tr>\n",
       "    <tr>\n",
       "      <th>38</th>\n",
       "      <td>LINCOLN PARK</td>\n",
       "      <td>3245</td>\n",
       "    </tr>\n",
       "    <tr>\n",
       "      <th>57</th>\n",
       "      <td>PORTAGE PARK</td>\n",
       "      <td>3053</td>\n",
       "    </tr>\n",
       "    <tr>\n",
       "      <th>0</th>\n",
       "      <td>ALBANY PARK</td>\n",
       "      <td>3017</td>\n",
       "    </tr>\n",
       "    <tr>\n",
       "      <th>15</th>\n",
       "      <td>CHICAGO LAWN</td>\n",
       "      <td>2860</td>\n",
       "    </tr>\n",
       "    <tr>\n",
       "      <th>69</th>\n",
       "      <td>WEST ELSDON</td>\n",
       "      <td>2713</td>\n",
       "    </tr>\n",
       "    <tr>\n",
       "      <th>32</th>\n",
       "      <td>HUMBOLDT PARK</td>\n",
       "      <td>2638</td>\n",
       "    </tr>\n",
       "    <tr>\n",
       "      <th>5</th>\n",
       "      <td>AUSTIN</td>\n",
       "      <td>2506</td>\n",
       "    </tr>\n",
       "    <tr>\n",
       "      <th>72</th>\n",
       "      <td>WEST LAWN</td>\n",
       "      <td>2497</td>\n",
       "    </tr>\n",
       "    <tr>\n",
       "      <th>50</th>\n",
       "      <td>NEW CITY</td>\n",
       "      <td>2461</td>\n",
       "    </tr>\n",
       "    <tr>\n",
       "      <th>1</th>\n",
       "      <td>ARCHER HEIGHTS</td>\n",
       "      <td>2455</td>\n",
       "    </tr>\n",
       "    <tr>\n",
       "      <th>41</th>\n",
       "      <td>LOOP</td>\n",
       "      <td>2387</td>\n",
       "    </tr>\n",
       "    <tr>\n",
       "      <th>10</th>\n",
       "      <td>BRIDGEPORT</td>\n",
       "      <td>2248</td>\n",
       "    </tr>\n",
       "    <tr>\n",
       "      <th>3</th>\n",
       "      <td>ASHBURN</td>\n",
       "      <td>2151</td>\n",
       "    </tr>\n",
       "    <tr>\n",
       "      <th>66</th>\n",
       "      <td>UPTOWN</td>\n",
       "      <td>2018</td>\n",
       "    </tr>\n",
       "    <tr>\n",
       "      <th>47</th>\n",
       "      <td>NEAR NORTH SIDE</td>\n",
       "      <td>1974</td>\n",
       "    </tr>\n",
       "    <tr>\n",
       "      <th>74</th>\n",
       "      <td>WEST RIDGE</td>\n",
       "      <td>1913</td>\n",
       "    </tr>\n",
       "    <tr>\n",
       "      <th>...</th>\n",
       "      <td>...</td>\n",
       "      <td>...</td>\n",
       "    </tr>\n",
       "    <tr>\n",
       "      <th>67</th>\n",
       "      <td>WASHINGTON HEIGHTS</td>\n",
       "      <td>757</td>\n",
       "    </tr>\n",
       "    <tr>\n",
       "      <th>35</th>\n",
       "      <td>JEFFERSON PARK</td>\n",
       "      <td>724</td>\n",
       "    </tr>\n",
       "    <tr>\n",
       "      <th>2</th>\n",
       "      <td>ARMOUR SQUARE</td>\n",
       "      <td>699</td>\n",
       "    </tr>\n",
       "    <tr>\n",
       "      <th>71</th>\n",
       "      <td>WEST GARFIELD PARK</td>\n",
       "      <td>645</td>\n",
       "    </tr>\n",
       "    <tr>\n",
       "      <th>19</th>\n",
       "      <td>EAST GARFIELD PARK</td>\n",
       "      <td>576</td>\n",
       "    </tr>\n",
       "    <tr>\n",
       "      <th>54</th>\n",
       "      <td>NORWOOD PARK</td>\n",
       "      <td>543</td>\n",
       "    </tr>\n",
       "    <tr>\n",
       "      <th>14</th>\n",
       "      <td>CHATHAM</td>\n",
       "      <td>528</td>\n",
       "    </tr>\n",
       "    <tr>\n",
       "      <th>13</th>\n",
       "      <td>CALUMET HEIGHTS</td>\n",
       "      <td>435</td>\n",
       "    </tr>\n",
       "    <tr>\n",
       "      <th>44</th>\n",
       "      <td>MONTCLARE</td>\n",
       "      <td>412</td>\n",
       "    </tr>\n",
       "    <tr>\n",
       "      <th>76</th>\n",
       "      <td>WOODLAWN</td>\n",
       "      <td>397</td>\n",
       "    </tr>\n",
       "    <tr>\n",
       "      <th>63</th>\n",
       "      <td>SOUTH DEERING</td>\n",
       "      <td>393</td>\n",
       "    </tr>\n",
       "    <tr>\n",
       "      <th>45</th>\n",
       "      <td>MORGAN PARK</td>\n",
       "      <td>376</td>\n",
       "    </tr>\n",
       "    <tr>\n",
       "      <th>24</th>\n",
       "      <td>FOREST GLEN</td>\n",
       "      <td>370</td>\n",
       "    </tr>\n",
       "    <tr>\n",
       "      <th>28</th>\n",
       "      <td>GRAND BOULEVARD</td>\n",
       "      <td>355</td>\n",
       "    </tr>\n",
       "    <tr>\n",
       "      <th>48</th>\n",
       "      <td>NEAR SOUTH SIDE</td>\n",
       "      <td>351</td>\n",
       "    </tr>\n",
       "    <tr>\n",
       "      <th>30</th>\n",
       "      <td>HEGEWISCH</td>\n",
       "      <td>348</td>\n",
       "    </tr>\n",
       "    <tr>\n",
       "      <th>46</th>\n",
       "      <td>MOUNT GREENWOOD</td>\n",
       "      <td>296</td>\n",
       "    </tr>\n",
       "    <tr>\n",
       "      <th>6</th>\n",
       "      <td>AVALON PARK</td>\n",
       "      <td>268</td>\n",
       "    </tr>\n",
       "    <tr>\n",
       "      <th>9</th>\n",
       "      <td>BEVERLY</td>\n",
       "      <td>236</td>\n",
       "    </tr>\n",
       "    <tr>\n",
       "      <th>33</th>\n",
       "      <td>HYDE PARK</td>\n",
       "      <td>205</td>\n",
       "    </tr>\n",
       "    <tr>\n",
       "      <th>36</th>\n",
       "      <td>KENWOOD</td>\n",
       "      <td>200</td>\n",
       "    </tr>\n",
       "    <tr>\n",
       "      <th>17</th>\n",
       "      <td>DOUGLAS</td>\n",
       "      <td>161</td>\n",
       "    </tr>\n",
       "    <tr>\n",
       "      <th>58</th>\n",
       "      <td>PULLMAN</td>\n",
       "      <td>159</td>\n",
       "    </tr>\n",
       "    <tr>\n",
       "      <th>68</th>\n",
       "      <td>WASHINGTON PARK</td>\n",
       "      <td>150</td>\n",
       "    </tr>\n",
       "    <tr>\n",
       "      <th>22</th>\n",
       "      <td>EDISON PARK</td>\n",
       "      <td>140</td>\n",
       "    </tr>\n",
       "    <tr>\n",
       "      <th>25</th>\n",
       "      <td>FULLER PARK</td>\n",
       "      <td>120</td>\n",
       "    </tr>\n",
       "    <tr>\n",
       "      <th>12</th>\n",
       "      <td>BURNSIDE</td>\n",
       "      <td>88</td>\n",
       "    </tr>\n",
       "    <tr>\n",
       "      <th>56</th>\n",
       "      <td>OHARE</td>\n",
       "      <td>54</td>\n",
       "    </tr>\n",
       "    <tr>\n",
       "      <th>55</th>\n",
       "      <td>OAKLAND</td>\n",
       "      <td>53</td>\n",
       "    </tr>\n",
       "    <tr>\n",
       "      <th>59</th>\n",
       "      <td>RIVERDALE</td>\n",
       "      <td>44</td>\n",
       "    </tr>\n",
       "  </tbody>\n",
       "</table>\n",
       "<p>77 rows × 2 columns</p>\n",
       "</div>"
      ],
      "text/plain": [
       "             community  count\n",
       "75           WEST TOWN  10272\n",
       "40        LOGAN SQUARE   8162\n",
       "64      SOUTH LAWNDALE   6675\n",
       "42     LOWER WEST SIDE   6216\n",
       "11       BRIGHTON PARK   5784\n",
       "7             AVONDALE   4751\n",
       "37           LAKE VIEW   4730\n",
       "43       MCKINLEY PARK   4693\n",
       "26           GAGE PARK   3825\n",
       "8       BELMONT CRAGIN   3744\n",
       "34         IRVING PARK   3706\n",
       "51        NORTH CENTER   3638\n",
       "39      LINCOLN SQUARE   3582\n",
       "49      NEAR WEST SIDE   3373\n",
       "38        LINCOLN PARK   3245\n",
       "57        PORTAGE PARK   3053\n",
       "0          ALBANY PARK   3017\n",
       "15        CHICAGO LAWN   2860\n",
       "69         WEST ELSDON   2713\n",
       "32       HUMBOLDT PARK   2638\n",
       "5               AUSTIN   2506\n",
       "72           WEST LAWN   2497\n",
       "50            NEW CITY   2461\n",
       "1       ARCHER HEIGHTS   2455\n",
       "41                LOOP   2387\n",
       "10          BRIDGEPORT   2248\n",
       "3              ASHBURN   2151\n",
       "66              UPTOWN   2018\n",
       "47     NEAR NORTH SIDE   1974\n",
       "74          WEST RIDGE   1913\n",
       "..                 ...    ...\n",
       "67  WASHINGTON HEIGHTS    757\n",
       "35      JEFFERSON PARK    724\n",
       "2        ARMOUR SQUARE    699\n",
       "71  WEST GARFIELD PARK    645\n",
       "19  EAST GARFIELD PARK    576\n",
       "54        NORWOOD PARK    543\n",
       "14             CHATHAM    528\n",
       "13     CALUMET HEIGHTS    435\n",
       "44           MONTCLARE    412\n",
       "76            WOODLAWN    397\n",
       "63       SOUTH DEERING    393\n",
       "45         MORGAN PARK    376\n",
       "24         FOREST GLEN    370\n",
       "28     GRAND BOULEVARD    355\n",
       "48     NEAR SOUTH SIDE    351\n",
       "30           HEGEWISCH    348\n",
       "46     MOUNT GREENWOOD    296\n",
       "6          AVALON PARK    268\n",
       "9              BEVERLY    236\n",
       "33           HYDE PARK    205\n",
       "36             KENWOOD    200\n",
       "17             DOUGLAS    161\n",
       "58             PULLMAN    159\n",
       "68     WASHINGTON PARK    150\n",
       "22         EDISON PARK    140\n",
       "25         FULLER PARK    120\n",
       "12            BURNSIDE     88\n",
       "56               OHARE     54\n",
       "55             OAKLAND     53\n",
       "59           RIVERDALE     44\n",
       "\n",
       "[77 rows x 2 columns]"
      ]
     },
     "execution_count": 70,
     "metadata": {},
     "output_type": "execute_result"
    }
   ],
   "source": [
    "# Count number of service requests by community area\n",
    "grouped = all_call.groupby(\"community\").size().reset_index(name=\"count\")\n",
    "grouped.sort_values(by = \"count\", ascending=False)"
   ]
  },
  {
   "cell_type": "code",
   "execution_count": 71,
   "metadata": {},
   "outputs": [
    {
     "data": {
      "text/html": [
       "<div>\n",
       "<style>\n",
       "    .dataframe thead tr:only-child th {\n",
       "        text-align: right;\n",
       "    }\n",
       "\n",
       "    .dataframe thead th {\n",
       "        text-align: left;\n",
       "    }\n",
       "\n",
       "    .dataframe tbody tr th {\n",
       "        vertical-align: top;\n",
       "    }\n",
       "</style>\n",
       "<table border=\"1\" class=\"dataframe\">\n",
       "  <thead>\n",
       "    <tr style=\"text-align: right;\">\n",
       "      <th></th>\n",
       "      <th>community</th>\n",
       "      <th>average_response_time</th>\n",
       "    </tr>\n",
       "  </thead>\n",
       "  <tbody>\n",
       "    <tr>\n",
       "      <th>55</th>\n",
       "      <td>OAKLAND</td>\n",
       "      <td>43.829787</td>\n",
       "    </tr>\n",
       "    <tr>\n",
       "      <th>59</th>\n",
       "      <td>RIVERDALE</td>\n",
       "      <td>37.230769</td>\n",
       "    </tr>\n",
       "    <tr>\n",
       "      <th>45</th>\n",
       "      <td>MORGAN PARK</td>\n",
       "      <td>35.706320</td>\n",
       "    </tr>\n",
       "    <tr>\n",
       "      <th>73</th>\n",
       "      <td>WEST PULLMAN</td>\n",
       "      <td>32.679831</td>\n",
       "    </tr>\n",
       "    <tr>\n",
       "      <th>6</th>\n",
       "      <td>AVALON PARK</td>\n",
       "      <td>32.422330</td>\n",
       "    </tr>\n",
       "    <tr>\n",
       "      <th>9</th>\n",
       "      <td>BEVERLY</td>\n",
       "      <td>31.305000</td>\n",
       "    </tr>\n",
       "    <tr>\n",
       "      <th>29</th>\n",
       "      <td>GREATER GRAND CROSSING</td>\n",
       "      <td>30.977099</td>\n",
       "    </tr>\n",
       "    <tr>\n",
       "      <th>65</th>\n",
       "      <td>SOUTH SHORE</td>\n",
       "      <td>30.750000</td>\n",
       "    </tr>\n",
       "    <tr>\n",
       "      <th>14</th>\n",
       "      <td>CHATHAM</td>\n",
       "      <td>30.478149</td>\n",
       "    </tr>\n",
       "    <tr>\n",
       "      <th>76</th>\n",
       "      <td>WOODLAWN</td>\n",
       "      <td>29.675373</td>\n",
       "    </tr>\n",
       "    <tr>\n",
       "      <th>4</th>\n",
       "      <td>AUBURN GRESHAM</td>\n",
       "      <td>28.209302</td>\n",
       "    </tr>\n",
       "    <tr>\n",
       "      <th>36</th>\n",
       "      <td>KENWOOD</td>\n",
       "      <td>27.666667</td>\n",
       "    </tr>\n",
       "    <tr>\n",
       "      <th>23</th>\n",
       "      <td>ENGLEWOOD</td>\n",
       "      <td>26.647799</td>\n",
       "    </tr>\n",
       "    <tr>\n",
       "      <th>13</th>\n",
       "      <td>CALUMET HEIGHTS</td>\n",
       "      <td>26.448000</td>\n",
       "    </tr>\n",
       "    <tr>\n",
       "      <th>67</th>\n",
       "      <td>WASHINGTON HEIGHTS</td>\n",
       "      <td>24.529837</td>\n",
       "    </tr>\n",
       "    <tr>\n",
       "      <th>58</th>\n",
       "      <td>PULLMAN</td>\n",
       "      <td>23.336066</td>\n",
       "    </tr>\n",
       "    <tr>\n",
       "      <th>71</th>\n",
       "      <td>WEST GARFIELD PARK</td>\n",
       "      <td>23.310493</td>\n",
       "    </tr>\n",
       "    <tr>\n",
       "      <th>70</th>\n",
       "      <td>WEST ENGLEWOOD</td>\n",
       "      <td>22.235686</td>\n",
       "    </tr>\n",
       "    <tr>\n",
       "      <th>46</th>\n",
       "      <td>MOUNT GREENWOOD</td>\n",
       "      <td>22.189964</td>\n",
       "    </tr>\n",
       "    <tr>\n",
       "      <th>25</th>\n",
       "      <td>FULLER PARK</td>\n",
       "      <td>21.649485</td>\n",
       "    </tr>\n",
       "    <tr>\n",
       "      <th>61</th>\n",
       "      <td>ROSELAND</td>\n",
       "      <td>21.307377</td>\n",
       "    </tr>\n",
       "    <tr>\n",
       "      <th>30</th>\n",
       "      <td>HEGEWISCH</td>\n",
       "      <td>21.178439</td>\n",
       "    </tr>\n",
       "    <tr>\n",
       "      <th>22</th>\n",
       "      <td>EDISON PARK</td>\n",
       "      <td>20.782946</td>\n",
       "    </tr>\n",
       "    <tr>\n",
       "      <th>68</th>\n",
       "      <td>WASHINGTON PARK</td>\n",
       "      <td>20.247706</td>\n",
       "    </tr>\n",
       "    <tr>\n",
       "      <th>28</th>\n",
       "      <td>GRAND BOULEVARD</td>\n",
       "      <td>19.981191</td>\n",
       "    </tr>\n",
       "    <tr>\n",
       "      <th>63</th>\n",
       "      <td>SOUTH DEERING</td>\n",
       "      <td>19.849693</td>\n",
       "    </tr>\n",
       "    <tr>\n",
       "      <th>62</th>\n",
       "      <td>SOUTH CHICAGO</td>\n",
       "      <td>19.222319</td>\n",
       "    </tr>\n",
       "    <tr>\n",
       "      <th>54</th>\n",
       "      <td>NORWOOD PARK</td>\n",
       "      <td>17.891473</td>\n",
       "    </tr>\n",
       "    <tr>\n",
       "      <th>19</th>\n",
       "      <td>EAST GARFIELD PARK</td>\n",
       "      <td>17.179798</td>\n",
       "    </tr>\n",
       "    <tr>\n",
       "      <th>52</th>\n",
       "      <td>NORTH LAWNDALE</td>\n",
       "      <td>16.629417</td>\n",
       "    </tr>\n",
       "    <tr>\n",
       "      <th>...</th>\n",
       "      <td>...</td>\n",
       "      <td>...</td>\n",
       "    </tr>\n",
       "    <tr>\n",
       "      <th>31</th>\n",
       "      <td>HERMOSA</td>\n",
       "      <td>5.612931</td>\n",
       "    </tr>\n",
       "    <tr>\n",
       "      <th>10</th>\n",
       "      <td>BRIDGEPORT</td>\n",
       "      <td>4.701499</td>\n",
       "    </tr>\n",
       "    <tr>\n",
       "      <th>38</th>\n",
       "      <td>LINCOLN PARK</td>\n",
       "      <td>4.438027</td>\n",
       "    </tr>\n",
       "    <tr>\n",
       "      <th>64</th>\n",
       "      <td>SOUTH LAWNDALE</td>\n",
       "      <td>4.376996</td>\n",
       "    </tr>\n",
       "    <tr>\n",
       "      <th>2</th>\n",
       "      <td>ARMOUR SQUARE</td>\n",
       "      <td>3.906667</td>\n",
       "    </tr>\n",
       "    <tr>\n",
       "      <th>60</th>\n",
       "      <td>ROGERS PARK</td>\n",
       "      <td>3.876889</td>\n",
       "    </tr>\n",
       "    <tr>\n",
       "      <th>53</th>\n",
       "      <td>NORTH PARK</td>\n",
       "      <td>3.710000</td>\n",
       "    </tr>\n",
       "    <tr>\n",
       "      <th>69</th>\n",
       "      <td>WEST ELSDON</td>\n",
       "      <td>3.686178</td>\n",
       "    </tr>\n",
       "    <tr>\n",
       "      <th>26</th>\n",
       "      <td>GAGE PARK</td>\n",
       "      <td>3.589092</td>\n",
       "    </tr>\n",
       "    <tr>\n",
       "      <th>11</th>\n",
       "      <td>BRIGHTON PARK</td>\n",
       "      <td>3.587873</td>\n",
       "    </tr>\n",
       "    <tr>\n",
       "      <th>48</th>\n",
       "      <td>NEAR SOUTH SIDE</td>\n",
       "      <td>3.527221</td>\n",
       "    </tr>\n",
       "    <tr>\n",
       "      <th>42</th>\n",
       "      <td>LOWER WEST SIDE</td>\n",
       "      <td>3.332896</td>\n",
       "    </tr>\n",
       "    <tr>\n",
       "      <th>49</th>\n",
       "      <td>NEAR WEST SIDE</td>\n",
       "      <td>3.309185</td>\n",
       "    </tr>\n",
       "    <tr>\n",
       "      <th>1</th>\n",
       "      <td>ARCHER HEIGHTS</td>\n",
       "      <td>3.293729</td>\n",
       "    </tr>\n",
       "    <tr>\n",
       "      <th>34</th>\n",
       "      <td>IRVING PARK</td>\n",
       "      <td>3.284464</td>\n",
       "    </tr>\n",
       "    <tr>\n",
       "      <th>74</th>\n",
       "      <td>WEST RIDGE</td>\n",
       "      <td>3.199471</td>\n",
       "    </tr>\n",
       "    <tr>\n",
       "      <th>75</th>\n",
       "      <td>WEST TOWN</td>\n",
       "      <td>2.935569</td>\n",
       "    </tr>\n",
       "    <tr>\n",
       "      <th>40</th>\n",
       "      <td>LOGAN SQUARE</td>\n",
       "      <td>2.921608</td>\n",
       "    </tr>\n",
       "    <tr>\n",
       "      <th>47</th>\n",
       "      <td>NEAR NORTH SIDE</td>\n",
       "      <td>2.777492</td>\n",
       "    </tr>\n",
       "    <tr>\n",
       "      <th>0</th>\n",
       "      <td>ALBANY PARK</td>\n",
       "      <td>2.590985</td>\n",
       "    </tr>\n",
       "    <tr>\n",
       "      <th>43</th>\n",
       "      <td>MCKINLEY PARK</td>\n",
       "      <td>2.437163</td>\n",
       "    </tr>\n",
       "    <tr>\n",
       "      <th>17</th>\n",
       "      <td>DOUGLAS</td>\n",
       "      <td>2.218543</td>\n",
       "    </tr>\n",
       "    <tr>\n",
       "      <th>21</th>\n",
       "      <td>EDGEWATER</td>\n",
       "      <td>2.182235</td>\n",
       "    </tr>\n",
       "    <tr>\n",
       "      <th>37</th>\n",
       "      <td>LAKE VIEW</td>\n",
       "      <td>1.947402</td>\n",
       "    </tr>\n",
       "    <tr>\n",
       "      <th>51</th>\n",
       "      <td>NORTH CENTER</td>\n",
       "      <td>1.906700</td>\n",
       "    </tr>\n",
       "    <tr>\n",
       "      <th>66</th>\n",
       "      <td>UPTOWN</td>\n",
       "      <td>1.863410</td>\n",
       "    </tr>\n",
       "    <tr>\n",
       "      <th>39</th>\n",
       "      <td>LINCOLN SQUARE</td>\n",
       "      <td>1.708939</td>\n",
       "    </tr>\n",
       "    <tr>\n",
       "      <th>7</th>\n",
       "      <td>AVONDALE</td>\n",
       "      <td>1.693613</td>\n",
       "    </tr>\n",
       "    <tr>\n",
       "      <th>56</th>\n",
       "      <td>OHARE</td>\n",
       "      <td>1.094340</td>\n",
       "    </tr>\n",
       "    <tr>\n",
       "      <th>41</th>\n",
       "      <td>LOOP</td>\n",
       "      <td>0.775450</td>\n",
       "    </tr>\n",
       "  </tbody>\n",
       "</table>\n",
       "<p>77 rows × 2 columns</p>\n",
       "</div>"
      ],
      "text/plain": [
       "                 community  average_response_time\n",
       "55                 OAKLAND              43.829787\n",
       "59               RIVERDALE              37.230769\n",
       "45             MORGAN PARK              35.706320\n",
       "73            WEST PULLMAN              32.679831\n",
       "6              AVALON PARK              32.422330\n",
       "9                  BEVERLY              31.305000\n",
       "29  GREATER GRAND CROSSING              30.977099\n",
       "65             SOUTH SHORE              30.750000\n",
       "14                 CHATHAM              30.478149\n",
       "76                WOODLAWN              29.675373\n",
       "4           AUBURN GRESHAM              28.209302\n",
       "36                 KENWOOD              27.666667\n",
       "23               ENGLEWOOD              26.647799\n",
       "13         CALUMET HEIGHTS              26.448000\n",
       "67      WASHINGTON HEIGHTS              24.529837\n",
       "58                 PULLMAN              23.336066\n",
       "71      WEST GARFIELD PARK              23.310493\n",
       "70          WEST ENGLEWOOD              22.235686\n",
       "46         MOUNT GREENWOOD              22.189964\n",
       "25             FULLER PARK              21.649485\n",
       "61                ROSELAND              21.307377\n",
       "30               HEGEWISCH              21.178439\n",
       "22             EDISON PARK              20.782946\n",
       "68         WASHINGTON PARK              20.247706\n",
       "28         GRAND BOULEVARD              19.981191\n",
       "63           SOUTH DEERING              19.849693\n",
       "62           SOUTH CHICAGO              19.222319\n",
       "54            NORWOOD PARK              17.891473\n",
       "19      EAST GARFIELD PARK              17.179798\n",
       "52          NORTH LAWNDALE              16.629417\n",
       "..                     ...                    ...\n",
       "31                 HERMOSA               5.612931\n",
       "10              BRIDGEPORT               4.701499\n",
       "38            LINCOLN PARK               4.438027\n",
       "64          SOUTH LAWNDALE               4.376996\n",
       "2            ARMOUR SQUARE               3.906667\n",
       "60             ROGERS PARK               3.876889\n",
       "53              NORTH PARK               3.710000\n",
       "69             WEST ELSDON               3.686178\n",
       "26               GAGE PARK               3.589092\n",
       "11           BRIGHTON PARK               3.587873\n",
       "48         NEAR SOUTH SIDE               3.527221\n",
       "42         LOWER WEST SIDE               3.332896\n",
       "49          NEAR WEST SIDE               3.309185\n",
       "1           ARCHER HEIGHTS               3.293729\n",
       "34             IRVING PARK               3.284464\n",
       "74              WEST RIDGE               3.199471\n",
       "75               WEST TOWN               2.935569\n",
       "40            LOGAN SQUARE               2.921608\n",
       "47         NEAR NORTH SIDE               2.777492\n",
       "0              ALBANY PARK               2.590985\n",
       "43           MCKINLEY PARK               2.437163\n",
       "17                 DOUGLAS               2.218543\n",
       "21               EDGEWATER               2.182235\n",
       "37               LAKE VIEW               1.947402\n",
       "51            NORTH CENTER               1.906700\n",
       "66                  UPTOWN               1.863410\n",
       "39          LINCOLN SQUARE               1.708939\n",
       "7                 AVONDALE               1.693613\n",
       "56                   OHARE               1.094340\n",
       "41                    LOOP               0.775450\n",
       "\n",
       "[77 rows x 2 columns]"
      ]
     },
     "execution_count": 71,
     "metadata": {},
     "output_type": "execute_result"
    }
   ],
   "source": [
    "#Calculate average response time by community area\n",
    "grouped = all_call.groupby(\"community\")['response_time'].mean().reset_index(name=\"average_response_time\")\n",
    "grouped.sort_values(by = \"average_response_time\", ascending=False)"
   ]
  },
  {
   "cell_type": "code",
   "execution_count": 72,
   "metadata": {},
   "outputs": [
    {
     "data": {
      "text/html": [
       "<div>\n",
       "<style>\n",
       "    .dataframe thead tr:only-child th {\n",
       "        text-align: right;\n",
       "    }\n",
       "\n",
       "    .dataframe thead th {\n",
       "        text-align: left;\n",
       "    }\n",
       "\n",
       "    .dataframe tbody tr th {\n",
       "        vertical-align: top;\n",
       "    }\n",
       "</style>\n",
       "<table border=\"1\" class=\"dataframe\">\n",
       "  <thead>\n",
       "    <tr style=\"text-align: right;\">\n",
       "      <th></th>\n",
       "      <th>type_of_service_request</th>\n",
       "      <th>average_response_time</th>\n",
       "    </tr>\n",
       "  </thead>\n",
       "  <tbody>\n",
       "    <tr>\n",
       "      <th>0</th>\n",
       "      <td>Alley Light Out</td>\n",
       "      <td>33.709252</td>\n",
       "    </tr>\n",
       "    <tr>\n",
       "      <th>1</th>\n",
       "      <td>Graffiti Removal</td>\n",
       "      <td>0.676226</td>\n",
       "    </tr>\n",
       "    <tr>\n",
       "      <th>2</th>\n",
       "      <td>Vacant/Abandoned Building</td>\n",
       "      <td>NaN</td>\n",
       "    </tr>\n",
       "  </tbody>\n",
       "</table>\n",
       "</div>"
      ],
      "text/plain": [
       "     type_of_service_request  average_response_time\n",
       "0            Alley Light Out              33.709252\n",
       "1           Graffiti Removal               0.676226\n",
       "2  Vacant/Abandoned Building                    NaN"
      ]
     },
     "execution_count": 72,
     "metadata": {},
     "output_type": "execute_result"
    }
   ],
   "source": [
    "#Calculate average response time by type of service request (no data for vacant/abandoned buildings because no completion date provided)\n",
    "grouped = all_call.groupby(\"type_of_service_request\")['response_time'].mean().reset_index(name=\"average_response_time\")\n",
    "grouped.sort_values(by= \"average_response_time\", ascending=False)"
   ]
  },
  {
   "cell_type": "markdown",
   "metadata": {},
   "source": [
    "**Question 1 Response**\n",
    "\n",
    "The findings above illuminate several interesting trends about responses to 311 requests in the city of Chicago. I highlight five interesting things I learned performing this analysis below:\n",
    "1. The city of Chicago receives vastly more graffiti removal requests than alley lights out requests or vacant building requests, representing 78.3% of all the 311 calls in our sample. This result likely indicates the higher incidence of graffiti than vacant buildings or alley lights out. There are by contrast very few reports of Abandoned/Vacant Buildings, representing just 2.54% of the total calls in our sample. This may be due to the relative infrequency of Vacant/Abandoned Buildings or the lower proclivity of residents who live in the communities where Vacant/Abandoned Buildings occur to place a 311 request (see number 3 below).\n",
    "2. There are significant disparities in the average response time to 311 calls in the city, with a slowest average response time (43.83 days in Oakland) that is more than 56 times greater than the fastest average response time (0.78 days in the Loop). The discrepancy may indicate that the city is prioritizing responding to 311 requests in certain areas, as areas that experience the fastest response times may be of key commercial importance (such as the Loop or O'Hare Airport) or higher-income areas while the areas with the slowest response times may be lower-income areas.\n",
    "3. The community areas that place the most 311 requests (West Town at 10,272 calls and Logan Square at 8,162 calls) also experience some of the fastest response times (13th and 14th fastest respectively). By contrast, the community areas with the slowest reponse times (Oakland at 43.83 days and Riverdale at 37.23 days) report the fewest 311 requests of all community areas. This may reflect that citizens living in community areas with slow response times have become discouraged by the long wait times and have stopped reporting 311 requests, or it could indicate that the city allocates more resources to responding to calls in areas that report more 311 calls, so they can respond to those calls more quickly. \n",
    "4. The number of 311 requests placed per month is highest in the months of September, October, and November, largely driven by increases in the number of graffiti removal calls in those months. This was a surprising finding as I would have expected the number of graffiti removal requests to be highest in the summer when school is not in session.\n",
    "5. Over 40% of buildings reported as vacant are being used by people (such as individuals experiencing homelessness or gangs) at the time of the report. Additionally, the most common location for graffiti that is reported for removal is the front of the location, followed by the side and then by a pole. "
   ]
  },
  {
   "cell_type": "code",
   "execution_count": 73,
   "metadata": {
    "collapsed": true
   },
   "outputs": [],
   "source": [
    "# Query ACS Data from Census API\n",
    "acs_results = requests.get('https://api.census.gov/data/2016/acs/acs5?get=NAME,B01003_001E,B02001_002E,B02001_003E,B15003_022E,B19001_001E&for=block%20group:*&in=state:17%20county:031&key=91aa6a44edb890abeea862f2d9befb5d520a5cc4')\n",
    "data = acs_results.text\n",
    "acs_df = pd.read_json(data)"
   ]
  },
  {
   "cell_type": "code",
   "execution_count": 74,
   "metadata": {
    "collapsed": true
   },
   "outputs": [],
   "source": [
    "# Clean ACS data frame and rename columns\n",
    "variables = {'B01003_001E': \"total_pop\", 'B02001_002E': \"total_white\", 'B02001_003E': \"total_black\", 'B15003_022E': \"bachelors_degree\", 'B19001_001E': \"total_income\"}\n",
    "acs_df.columns = acs_df.iloc[0]\n",
    "acs_df.drop([0], inplace = True)\n",
    "acs_df.rename(columns = variables, inplace=True)"
   ]
  },
  {
   "cell_type": "code",
   "execution_count": 75,
   "metadata": {
    "collapsed": true
   },
   "outputs": [],
   "source": [
    "# Calculate percentage statistics for count variables in ACS\n",
    "acs_df['pct_black'] = pd.to_numeric(acs_df['total_black'])/ pd.to_numeric(acs_df['total_pop'])\n",
    "acs_df['pct_white'] = pd.to_numeric(acs_df['total_white'])/ pd.to_numeric(acs_df['total_pop'])\n",
    "acs_df['pct_bachelors'] = pd.to_numeric(acs_df['bachelors_degree'])/ pd.to_numeric(acs_df['total_pop'])\n",
    "acs_df['GEOID']= acs_df[\"state\"] + acs_df[\"county\"] + acs_df[\"tract\"] + acs_df[\"block group\"]"
   ]
  },
  {
   "cell_type": "code",
   "execution_count": 76,
   "metadata": {
    "collapsed": true
   },
   "outputs": [],
   "source": [
    "# Read in census 2010 shapefile downloaded manually from census website\n",
    "fp = \"/Users/alenastern/Documents/Spring2018/Machine_Learning/tl_2017_17_bg/tl_2017_17_bg.shp\"\n",
    "census_shp = gpd.read_file(fp)"
   ]
  },
  {
   "cell_type": "code",
   "execution_count": 77,
   "metadata": {
    "collapsed": true
   },
   "outputs": [],
   "source": [
    "# Create Pandas GeoDataFrame from 311 data\n",
    "geometry = [Point(xy) for xy in zip(pd.to_numeric(all_call.longitude), pd.to_numeric(all_call.latitude))]\n",
    "all_call2 = all_call.drop(['latitude', 'longitude'], axis=1)\n",
    "crs = {'init': 'epsg:4326'}\n",
    "gdf_calls = gdf(all_call2, crs=crs, geometry=geometry)\n",
    "gdf_calls = gdf_calls[gdf_calls['geometry'].is_valid]"
   ]
  },
  {
   "cell_type": "code",
   "execution_count": 78,
   "metadata": {
    "collapsed": true
   },
   "outputs": [],
   "source": [
    "# Merge census 2010 block group shapefile with ACS data\n",
    "shp_geom = census_shp[[\"GEOID\", \"geometry\"]].copy()\n",
    "acs_df = pd.merge(acs_df, shp_geom, on = 'GEOID', how = 'left')"
   ]
  },
  {
   "cell_type": "code",
   "execution_count": 79,
   "metadata": {
    "collapsed": true
   },
   "outputs": [],
   "source": [
    "# Create Pandas GeoDataFrame from ACS data \n",
    "geometry = [Polygon(x) for x in acs_df.geometry]\n",
    "acs_df2 = acs_df.drop(['geometry'], axis=1)\n",
    "crs ={'init': 'epsg:4269'}\n",
    "gdf_acs = gdf(acs_df2, crs=crs, geometry=geometry)\n",
    "gdf_acs['total_income'] = pd.to_numeric(gdf_acs['total_income'])"
   ]
  },
  {
   "cell_type": "code",
   "execution_count": 80,
   "metadata": {},
   "outputs": [
    {
     "data": {
      "text/plain": [
       "{'init': 'epsg:4326'}"
      ]
     },
     "execution_count": 80,
     "metadata": {},
     "output_type": "execute_result"
    }
   ],
   "source": [
    "#reproject American Community Survey data to same coordinate reference system of Chicago Open Data\n",
    "gdf_acs = gdf_acs.to_crs({'init': 'epsg:4326'})\n",
    "gdf_acs.crs"
   ]
  },
  {
   "cell_type": "code",
   "execution_count": 81,
   "metadata": {
    "collapsed": true
   },
   "outputs": [],
   "source": [
    "#spatially join ACS data with Chicago 311 data by mapping 311 points to block group polygons\n",
    "all_call_acs = gpd.sjoin(gdf_calls, gdf_acs, how=\"left\")"
   ]
  },
  {
   "cell_type": "code",
   "execution_count": 82,
   "metadata": {},
   "outputs": [
    {
     "data": {
      "text/plain": [
       "pct_black          0.273980\n",
       "pct_white          0.549943\n",
       "total_income     488.756824\n",
       "pct_bachelors      0.146207\n",
       "dtype: float64"
      ]
     },
     "execution_count": 82,
     "metadata": {},
     "output_type": "execute_result"
    }
   ],
   "source": [
    "#calculate average values of variables across all block groups in cook county\n",
    "gdf_acs[['pct_black', 'pct_white', 'total_income', 'pct_bachelors']].mean()"
   ]
  },
  {
   "cell_type": "code",
   "execution_count": 83,
   "metadata": {},
   "outputs": [
    {
     "data": {
      "text/html": [
       "<div>\n",
       "<style>\n",
       "    .dataframe thead tr:only-child th {\n",
       "        text-align: right;\n",
       "    }\n",
       "\n",
       "    .dataframe thead th {\n",
       "        text-align: left;\n",
       "    }\n",
       "\n",
       "    .dataframe tbody tr th {\n",
       "        vertical-align: top;\n",
       "    }\n",
       "</style>\n",
       "<table border=\"1\" class=\"dataframe\">\n",
       "  <thead>\n",
       "    <tr style=\"text-align: right;\">\n",
       "      <th></th>\n",
       "      <th>pct_black</th>\n",
       "      <th>pct_white</th>\n",
       "      <th>total_income</th>\n",
       "      <th>pct_bachelors</th>\n",
       "    </tr>\n",
       "    <tr>\n",
       "      <th>type_of_service_request</th>\n",
       "      <th></th>\n",
       "      <th></th>\n",
       "      <th></th>\n",
       "      <th></th>\n",
       "    </tr>\n",
       "  </thead>\n",
       "  <tbody>\n",
       "    <tr>\n",
       "      <th>Alley Light Out</th>\n",
       "      <td>0.403743</td>\n",
       "      <td>0.400884</td>\n",
       "      <td>452.323830</td>\n",
       "      <td>0.105551</td>\n",
       "    </tr>\n",
       "    <tr>\n",
       "      <th>Graffiti Removal</th>\n",
       "      <td>0.108343</td>\n",
       "      <td>0.614677</td>\n",
       "      <td>562.385718</td>\n",
       "      <td>0.170190</td>\n",
       "    </tr>\n",
       "    <tr>\n",
       "      <th>Vacant/Abandoned Building</th>\n",
       "      <td>0.804820</td>\n",
       "      <td>0.116517</td>\n",
       "      <td>373.668213</td>\n",
       "      <td>0.064021</td>\n",
       "    </tr>\n",
       "  </tbody>\n",
       "</table>\n",
       "</div>"
      ],
      "text/plain": [
       "                           pct_black  pct_white  total_income  pct_bachelors\n",
       "type_of_service_request                                                     \n",
       "Alley Light Out             0.403743   0.400884    452.323830       0.105551\n",
       "Graffiti Removal            0.108343   0.614677    562.385718       0.170190\n",
       "Vacant/Abandoned Building   0.804820   0.116517    373.668213       0.064021"
      ]
     },
     "execution_count": 83,
     "metadata": {},
     "output_type": "execute_result"
    }
   ],
   "source": [
    "#Calculate average block group characteristics by type of service request\n",
    "grouped = all_call_acs.groupby(\"type_of_service_request\")[['pct_black', 'pct_white', 'total_income', 'pct_bachelors']].mean()\n",
    "grouped"
   ]
  },
  {
   "cell_type": "code",
   "execution_count": 84,
   "metadata": {
    "collapsed": true
   },
   "outputs": [],
   "source": [
    "#calculate average percentage of black individuals in block froups by type of service request over time\n",
    "pt = all_call_acs.groupby([pd.to_datetime(all_call_acs.creation_date).dt.month, all_call_acs.type_of_service_request])['pct_black'].mean().reset_index(name='pct_black')\n",
    "piv_pb = pt.pivot(index='creation_date', columns='type_of_service_request', values='pct_black')"
   ]
  },
  {
   "cell_type": "code",
   "execution_count": 85,
   "metadata": {
    "collapsed": true
   },
   "outputs": [],
   "source": [
    "#calculate average total income in block froups by type of service request over time\n",
    "pt = all_call_acs.groupby([pd.to_datetime(all_call_acs.creation_date).dt.month, all_call_acs.type_of_service_request])['total_income'].mean().reset_index(name='total_income')\n",
    "piv_ti = pt.pivot(index='creation_date', columns='type_of_service_request', values='total_income')"
   ]
  },
  {
   "cell_type": "code",
   "execution_count": 86,
   "metadata": {
    "collapsed": true
   },
   "outputs": [],
   "source": [
    "#calculate average percentage of white individuals in block froups by type of service request over time\n",
    "pt = all_call_acs.groupby([pd.to_datetime(all_call_acs.creation_date).dt.month, all_call_acs.type_of_service_request])['pct_white'].mean().reset_index(name='pct_white')\n",
    "piv_pw = pt.pivot(index='creation_date', columns='type_of_service_request', values='pct_white')"
   ]
  },
  {
   "cell_type": "code",
   "execution_count": 87,
   "metadata": {
    "collapsed": true
   },
   "outputs": [],
   "source": [
    "#calculate average percentage of individuals with bachelors degrees in block froups by type of service request over time\n",
    "pt = all_call_acs.groupby([pd.to_datetime(all_call_acs.creation_date).dt.month, all_call_acs.type_of_service_request])['pct_bachelors'].mean().reset_index(name='pct_bachelors')\n",
    "piv_pba = pt.pivot(index='creation_date', columns='type_of_service_request', values='pct_bachelors')"
   ]
  },
  {
   "cell_type": "code",
   "execution_count": 88,
   "metadata": {},
   "outputs": [
    {
     "data": {
      "image/png": "[encoded data removed]",
      "text/plain": [
       "<matplotlib.figure.Figure at 0x114aded68>"
      ]
     },
     "metadata": {},
     "output_type": "display_data"
    }
   ],
   "source": [
    "#plot average block characteristics by type of service request over time\n",
    "fig, axes = plt.subplots(ncols=2, nrows = 2, sharex = True)\n",
    "\n",
    "piv_ti.plot(ax=axes[0,0], legend = False, title = \"Total Income\")\n",
    "piv_pb.plot(ax=axes[0,1], legend = False, title = \"Pct Black\")\n",
    "piv_pw.plot(ax=axes[1,0], legend = False, title = \"Pct White\")\n",
    "axes[1,0].set_xlabel(\"Creation Month\")\n",
    "piv_pba.plot(ax=axes[1,1], legend = False, title = \"Pct Bachelors\")\n",
    "axes[1,1].set_xlabel(\"Creation Month\")\n",
    "fig.legend(loc=7)\n",
    "fig.tight_layout()\n",
    "fig.subplots_adjust(right=0.55)   \n",
    "fig.set_size_inches(7,5)\n",
    "plt.show()"
   ]
  },
  {
   "cell_type": "markdown",
   "metadata": {
    "collapsed": true
   },
   "source": [
    "**Question 2 Response**\n",
    "\n",
    "1. The types of blocks that get \"Vacant/Abandoned Building\" reported have high black populations with 80.5% black residents on average (significantly above the city-wide average of 27%) and have significantly below average income (363.67 versus the city-wide average of 488.76) and significantly below average proportion of residents with bachelors degrees (6.4% versus the city-wide average of 14.6%).\n",
    "2. The types of blocks that get \"Alley Light Out\" reported are roughly even between the proportion of white and black population with approximately 40% white population and 40% black population, which represents a black population above the city-wide average and a white population below the city-wide average of 54%. The total income is slightly below average at 452.32 and proportion of residents with bachelor degrees is below average at 10.56%.\n",
    "3. Over the course of 2017, while we see some fluctuation, we do not see significant overall changes in the characteristics of the blocks where \"Alley Light Out\", \"Graffiti Removal\" or \"Vacant/Abandoned Building\" is reported as shown in the chart above. The one exception is that the percentage of individuals with bachelors degrees in the blocks where \"Grafitti Removal\" is reported increases several percentage points from the beginning of the year to the end with a spike in May and steep subsequent drop in the summer. \n",
    "4. Blocks that get \"Vacant/Abandoned Building\" reported have on average higher percentage of black residents, lower percentage of white residents, lower income, and lower percentage of residents with bachelor degrees than the blocks that get \"Alley Light Out\" reported. In general the blocks where \"Vacant/Abandoned Building\" are on average more socioeconomically disadvantaged given lower total income and educational attainment (as measured by the percentage of individuals with Bachelors degrees) than those blocks where \"Alley Light Out\" is reported and have higher African American populations.\n",
    "\n"
   ]
  },
  {
   "cell_type": "code",
   "execution_count": 89,
   "metadata": {
    "collapsed": true
   },
   "outputs": [],
   "source": [
    "# obtain census geographies for 3600 W Roosevelt Ave by using census geocoder API \n",
    "result_geocode = requests.get('https://geocoding.geo.census.gov/geocoder/geographies/address?street=3600+W+Roosevelt+Ave&city=Chicago&state=IL&zip=&benchmark=8&vintage=8&format=json')\n",
    "gc_text = result_geocode.text\n",
    "gc_json = json.loads(gc_text)"
   ]
  },
  {
   "cell_type": "code",
   "execution_count": 90,
   "metadata": {},
   "outputs": [
    {
     "data": {
      "text/plain": [
       "'170318430001'"
      ]
     },
     "execution_count": 90,
     "metadata": {},
     "output_type": "execute_result"
    }
   ],
   "source": [
    "# create geoid by concatenating FIPS code fields from census geocoder output\n",
    "geoid = (str(gc_json['result']['addressMatches'][0]['geographies']['2010 Census Blocks'][0]['STATE']) +\n",
    "str(gc_json['result']['addressMatches'][0]['geographies']['2010 Census Blocks'][0]['COUNTY']) +\n",
    "str(gc_json['result']['addressMatches'][0]['geographies']['2010 Census Blocks'][0]['TRACT']) +\n",
    "str(gc_json['result']['addressMatches'][0]['geographies']['2010 Census Blocks'][0]['BLKGRP'])) \n",
    "geoid"
   ]
  },
  {
   "cell_type": "code",
   "execution_count": 91,
   "metadata": {},
   "outputs": [
    {
     "data": {
      "text/plain": [
       "type_of_service_request\n",
       "Alley Light Out              0.577778\n",
       "Graffiti Removal             0.333333\n",
       "Vacant/Abandoned Building    0.088889\n",
       "dtype: float64"
      ]
     },
     "execution_count": 91,
     "metadata": {},
     "output_type": "execute_result"
    }
   ],
   "source": [
    "# obtain subset of 311 data for the given geoid and calculate percentage of service requests by type\n",
    "gc_df = all_call_acs[all_call_acs['GEOID'] == geoid]\n",
    "grouped = gc_df.groupby('type_of_service_request').size()/len(gc_df)\n",
    "grouped"
   ]
  },
  {
   "cell_type": "code",
   "execution_count": 92,
   "metadata": {
    "collapsed": true
   },
   "outputs": [],
   "source": [
    "# obtain subset of 311 data for Uptown and Garfield Park (East Garfield Park and West Garfield Park)\n",
    "upt_gp_df = all_call_acs[(all_call_acs['community'] == 'UPTOWN') | (all_call_acs['community'] == 'EAST GARFIELD PARK') | (all_call_acs['community'] == 'WEST GARFIELD PARK')].copy()"
   ]
  },
  {
   "cell_type": "code",
   "execution_count": 93,
   "metadata": {},
   "outputs": [
    {
     "data": {
      "text/plain": [
       "community      type_of_service_request  \n",
       "GARFIELD PARK  Alley Light Out               617\n",
       "               Graffiti Removal              454\n",
       "               Vacant/Abandoned Building     149\n",
       "UPTOWN         Alley Light Out               164\n",
       "               Graffiti Removal             1853\n",
       "               Vacant/Abandoned Building       1\n",
       "dtype: int64"
      ]
     },
     "execution_count": 93,
     "metadata": {},
     "output_type": "execute_result"
    }
   ],
   "source": [
    "# update East/West Garfield Park to Garfield Park and calculate number of calls by type\n",
    "mask = (upt_gp_df.community == \"EAST GARFIELD PARK\") | (upt_gp_df.community == \"WEST GARFIELD PARK\")\n",
    "column_name = 'community'\n",
    "upt_gp_df.loc[mask, column_name] = \"GARFIELD PARK\"\n",
    "\n",
    "grouped = upt_gp_df.groupby(['community','type_of_service_request']).size()\n",
    "grouped"
   ]
  },
  {
   "cell_type": "code",
   "execution_count": 94,
   "metadata": {},
   "outputs": [
    {
     "data": {
      "text/plain": [
       "4.0814977973568283"
      ]
     },
     "execution_count": 94,
     "metadata": {},
     "output_type": "execute_result"
    }
   ],
   "source": [
    "#calculate relative likelihood of a graffiti removal call coming from Garfield Park versus Uptown \n",
    "grouped[4]/grouped[1]"
   ]
  },
  {
   "cell_type": "code",
   "execution_count": 95,
   "metadata": {},
   "outputs": [
    {
     "data": {
      "text/plain": [
       "1.6"
      ]
     },
     "execution_count": 95,
     "metadata": {},
     "output_type": "execute_result"
    }
   ],
   "source": [
    "#calculate relative likelihood of a graffiti removal call coming from Garfield Park versus Uptown for question 3C\n",
    "160/100"
   ]
  },
  {
   "cell_type": "markdown",
   "metadata": {},
   "source": [
    "**Question 3 Response**\n",
    "\n",
    "1. I use the Census Geocoder tool to identify the block group associated with the given address. Note that the Census Geocoder did not identify an address associated with \"3600 W Roosevelt Ave\" and instead returned the geographies for \"3600 W Roosevelt Rd.\" I confirmed through additional Google searches that a search for \"3600 W Roosevelt Ave\" redirects to \"3600 W Roosevelt Road.\" Based upon the Census block group that 3600 W Roosevelt Road is located in and our existing 311 data for that Census block group in 2017, the call is most likely to be \"Alley Light Out\" (representing 57.8% of calls in that block group for 2017), followed by \"Graffiti Removal\" at 33.33% and \"Vacant/Abandoned Building\" at 8.9%.\n",
    "2. It is more likely that the data came from Uptown than Garfield Park, as Uptown had 1853 \"Graffiti Removal\" calls and Garfield Park had 454 \"Graffiti Removal\" calls. As shown above, it is therefore more than four times as likely that the call came from Uptown than Garfield Park.\n",
    "3. Per the data given, of the 260 total calls about \"Graffiti Removal\" in Garfield Park and Uptown, 100 come from Garfield Park and 160 come from Uptown. It is therefore 1.6 times more likely that a call about \"Grafitti Removal\" would come from Uptown than Garfield Park. "
   ]
  }
 ],
 "metadata": {
  "kernelspec": {
   "display_name": "Python 3",
   "language": "python",
   "name": "python3"
  },
  "language_info": {
   "codemirror_mode": {
    "name": "ipython",
    "version": 3
   },
   "file_extension": ".py",
   "mimetype": "text/x-python",
   "name": "python",
   "nbconvert_exporter": "python",
   "pygments_lexer": "ipython3",
   "version": "3.6.3"
  }
 },
 "nbformat": 4,
 "nbformat_minor": 2
}
